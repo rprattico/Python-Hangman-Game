{
 "cells": [
  {
   "cell_type": "markdown",
   "metadata": {},
   "source": [
    "# INSY660-Coding Foundations for Analytics"
   ]
  },
  {
   "cell_type": "markdown",
   "metadata": {},
   "source": [
    "## Assignment 2: Enter your code after the question line. \n",
    "\n",
    "### Please enter your Student Number and Name."
   ]
  },
  {
   "cell_type": "markdown",
   "metadata": {},
   "source": [
    "Student Number:    "
   ]
  },
  {
   "cell_type": "markdown",
   "metadata": {},
   "source": [
    "Name: "
   ]
  },
  {
   "cell_type": "markdown",
   "metadata": {},
   "source": [
    "Please submit a copy of the assignment via MyCourses by due date. Include your name and student number at the top of the assignment. Your submission should include the code along with the output (take a screenshot of your output) that you get when you run the code. For example, if the question is to print the string “Hello World”, your answer should comprise of:"
   ]
  },
  {
   "attachments": {
    "example-2.PNG": {
     "image/png": "[encoded data removed]"
    }
   },
   "cell_type": "markdown",
   "metadata": {},
   "source": [
    "![example-2.PNG](attachment:example-2.PNG)"
   ]
  },
  {
   "cell_type": "markdown",
   "metadata": {},
   "source": [
    "File Name: Assignment1_StudentNumber_Name.ipynb. Download as .ipynb after you complete your assignment and compress the file (.ipynb) when you submit by uploading on mycourses."
   ]
  },
  {
   "cell_type": "markdown",
   "metadata": {},
   "source": [
    "### 1. Create a list of 5 random integers between 1 and 100 using loop!"
   ]
  },
  {
   "cell_type": "code",
   "execution_count": 6,
   "metadata": {},
   "outputs": [
    {
     "name": "stdout",
     "output_type": "stream",
     "text": [
      "[99, 9, 12, 87, 49, 62]\n"
     ]
    }
   ],
   "source": [
    "import random\n",
    "\n",
    "values = list(range(1, 101))\n",
    "emptylist = []\n",
    "while len(emptylist)<6:\n",
    "    emptylist.append(random.choice(values))\n",
    "print(emptylist)"
   ]
  },
  {
   "cell_type": "markdown",
   "metadata": {},
   "source": [
    "#### a) Write a different loop that finds the minimum integer in the list. DO NOT use any pre-defined function to find the minimum. "
   ]
  },
  {
   "cell_type": "code",
   "execution_count": 7,
   "metadata": {},
   "outputs": [
    {
     "data": {
      "text/plain": [
       "9"
      ]
     },
     "execution_count": 7,
     "metadata": {},
     "output_type": "execute_result"
    }
   ],
   "source": [
    "def findmin(emptylist):\n",
    "    minimum = emptylist[0]\n",
    "    for x in emptylist:\n",
    "        if x < minimum:\n",
    "            minimum = x\n",
    "    return (minimum)\n",
    "findmin(emptylist) \n"
   ]
  },
  {
   "cell_type": "markdown",
   "metadata": {},
   "source": [
    "#### b) Use another loop to calculate the standard deviation of the values in the list. Again, DO NOT use any pre-defined functions to find the standard deviation (Refer to assignment 1 for the formula for calculating the standard deviation). "
   ]
  },
  {
   "cell_type": "markdown",
   "metadata": {},
   "source": [
    "sum = 0\n",
    "count = 0\n",
    "for x in empytlist:\n",
    "    sum += x\n",
    "    count += 1\n",
    "average  = (sum/count)\n",
    "sdsum = 0\n",
    "for x in emptylist:\n",
    "    xsd = (x-average)**2\n",
    "    sdsum += xsd\n",
    "standarddev = (sdsum/count)**(1/2)\n"
   ]
  },
  {
   "cell_type": "markdown",
   "metadata": {},
   "source": [
    "#### _feedabck(graders)_\n",
    "\n",
    "\n",
    "\n",
    "\n",
    "\n",
    "\n",
    "***\n"
   ]
  },
  {
   "cell_type": "markdown",
   "metadata": {},
   "source": [
    "### 2.\tCreate a program that performs search and replace a word from a string (same as what you find in Microsoft Word). "
   ]
  },
  {
   "cell_type": "markdown",
   "metadata": {},
   "source": [
    "Store the following string in a variable: "
   ]
  },
  {
   "cell_type": "markdown",
   "metadata": {},
   "source": [
    "\"The cat saw another cat and called the other cat to see the cat in the cat house\"."
   ]
  },
  {
   "cell_type": "markdown",
   "metadata": {},
   "source": [
    "Write a program the replaces all instances of the word “cat” with the word “dog”. This should be done by checking if each word is cat and replacing it, if it is. \n",
    "\n",
    "Assume that you are only replacing complete words and not part of words (for example, if the string contained the word catastrophe, the final string would still contain the word catastrophe although cat is contained within catastrophe.)\n",
    "\n",
    "The final string should look like: "
   ]
  },
  {
   "cell_type": "markdown",
   "metadata": {},
   "source": [
    "“The dog saw another dog and called the other dog to see the dog in the dog house. At the end, print the corrected string and the number of instances you replaced.” "
   ]
  },
  {
   "cell_type": "markdown",
   "metadata": {},
   "source": [
    "DO NOT directly use pre-defined function to replace strings but you are allowed to use string method – split() and join()."
   ]
  },
  {
   "cell_type": "code",
   "execution_count": null,
   "metadata": {},
   "outputs": [],
   "source": [
    "sentence = \"The cat saw another cat and called the other cat to see the cat in the cat house\"\n",
    "broken = sentence.split()\n",
    "for x in broken:\n",
    "    if x == \"cat\":\n",
    "        i = broken.index(x)\n",
    "        broken[i]=\"dog\"\n",
    "print(\" \".join(broken))\n",
    "        \n"
   ]
  },
  {
   "cell_type": "markdown",
   "metadata": {},
   "source": [
    "#### _feedabck(graders)_\n",
    "\n",
    "\n",
    "\n",
    "\n",
    "\n",
    "\n",
    "***"
   ]
  },
  {
   "cell_type": "markdown",
   "metadata": {},
   "source": [
    "###  3.\tWrite a function that identifies common items between the two lists and returns these to a new list."
   ]
  },
  {
   "cell_type": "markdown",
   "metadata": {},
   "source": [
    "Define a list with the following numbers: [34, 119, 153,323]\n",
    "Define another list with these numbers: [77,89,153,34,5]\n",
    "\n",
    "In the above example, the function will return the list with the common items [34, 153]\n"
   ]
  },
  {
   "cell_type": "code",
   "execution_count": 9,
   "metadata": {},
   "outputs": [
    {
     "name": "stdout",
     "output_type": "stream",
     "text": [
      "[34, 153]\n"
     ]
    }
   ],
   "source": [
    "list1 = [34,119,153,323]\n",
    "list2 = [77,89,153,34,5]\n",
    "common = []\n",
    "def commonfind(list1, list2, common):\n",
    "    for x in list1:\n",
    "        if x in list2:\n",
    "            common.append(x)\n",
    "    print(common)\n",
    "\n",
    "commonfind(list1, list2, common)\n",
    "        "
   ]
  },
  {
   "cell_type": "markdown",
   "metadata": {},
   "source": [
    "#### _feedabck(graders)_\n",
    "\n",
    "\n",
    "\n",
    "\n",
    "\n",
    "\n",
    "***"
   ]
  },
  {
   "cell_type": "markdown",
   "metadata": {},
   "source": [
    "### 4. Create the dictionaries shown below. You will need to use them to answer the following questions. "
   ]
  },
  {
   "cell_type": "code",
   "execution_count": null,
   "metadata": {},
   "outputs": [],
   "source": [
    "student_info={\n",
    "     'A001':      \n",
    "          {'Student_Name': 'Harry Potter', \n",
    "           'House': 'Gryffindor', \n",
    "           'Courses':['Charms','Flying','Transfiguration'],\n",
    "           'CGPA': 3.71},\n",
    "          \n",
    "     'A002': \n",
    "          {'Student_Name': 'Hermione Granger',\n",
    "           'House': 'Gryffindor',\n",
    "           'Courses':['Charms','Herbology','Apparition','Transfiguration'],\n",
    "           'CGPA': 3.98},\n",
    "     'A003': \n",
    "          {'Student_Name': 'Draco Malfoy',\n",
    "           'House': 'Slytherin', \n",
    "           'Courses':['Charms','Dark Arts','Ghoul Studies'],\n",
    "           'CGPA': 3.47}\n",
    "          }"
   ]
  },
  {
   "cell_type": "markdown",
   "metadata": {},
   "source": [
    "#### a) Print the number of students "
   ]
  },
  {
   "cell_type": "code",
   "execution_count": null,
   "metadata": {},
   "outputs": [],
   "source": [
    "print(len(student_info))"
   ]
  },
  {
   "cell_type": "markdown",
   "metadata": {},
   "source": [
    "#### b)\tPrint the number of courses “Draco Malfoy” takes. "
   ]
  },
  {
   "cell_type": "code",
   "execution_count": null,
   "metadata": {},
   "outputs": [],
   "source": [
    "coursecount = 0\n",
    "for i in student_info[\"A003\"][\"Courses\"]:\n",
    "    coursecount +=1\n",
    "print(coursecount)"
   ]
  },
  {
   "cell_type": "markdown",
   "metadata": {},
   "source": [
    "#### c) Within each of the inner dictionaries, add the key “Honors”. The value associated with this key is “YES” if the CGPA value of that particular student is higher than 3.8 and “No” otherwise (use loops and if statements) "
   ]
  },
  {
   "cell_type": "code",
   "execution_count": null,
   "metadata": {},
   "outputs": [],
   "source": [
    "for student in student_info:\n",
    "    if student_info[student][\"CGPA\"] >= 3.8:\n",
    "        student_info[student][\"Honours\"] = \"Yes\"\n",
    "    elif student_info[student][\"CGPA\"] < 3.8:\n",
    "        student_info[student][\"Honours\"] = \"No\""
   ]
  },
  {
   "cell_type": "markdown",
   "metadata": {},
   "source": [
    "#### d)\tUsing a loop, calculate and print the average CGPA of the class. DO NOT use any pre-defined function to find the average."
   ]
  },
  {
   "cell_type": "code",
   "execution_count": null,
   "metadata": {},
   "outputs": [],
   "source": [
    "total = 0\n",
    "count = 0\n",
    "for student in student_info:\n",
    "    total += student_info[student][\"CGPA\"]\n",
    "    count += 1\n",
    "print(total/count)"
   ]
  },
  {
   "cell_type": "markdown",
   "metadata": {},
   "source": [
    "#### _feedabck(graders)_\n",
    "\n",
    "\n",
    "\n",
    "\n",
    "\n",
    "\n",
    "***"
   ]
  },
  {
   "cell_type": "markdown",
   "metadata": {},
   "source": [
    "### 5. Rock-Paper-Scissor "
   ]
  },
  {
   "cell_type": "markdown",
   "metadata": {},
   "source": [
    "Create a program playing rock-paper-scissor.  First, make the computer (or python) choose one from the choice set (Hint: Use random module- random.choice (seq)). Second, make the users pick one of the options from rock-paper-scissor by using input() function."
   ]
  },
  {
   "attachments": {
    "Screen%20Shot%202022-08-05%20at%2011.09.58%20AM.png": {
     "image/png": "[encoded data removed]"
    }
   },
   "cell_type": "markdown",
   "metadata": {},
   "source": [
    "![Screen%20Shot%202022-08-05%20at%2011.09.58%20AM.png](attachment:Screen%20Shot%202022-08-05%20at%2011.09.58%20AM.png)"
   ]
  },
  {
   "cell_type": "markdown",
   "metadata": {},
   "source": [
    "Sometimes users inadvertently choose an option other than the one we defined. In this case, we have to make the user select the option again until the correct input is received. Using the infinite loop syntax(While True), make the program enter the input value again if the user makes a wrong choice. The program will show the results of the round as follows: "
   ]
  },
  {
   "attachments": {
    "Screen%20Shot%202022-08-05%20at%2011.11.41%20AM.png": {
     "image/png": "[encoded data removed]"
    }
   },
   "cell_type": "markdown",
   "metadata": {},
   "source": [
    "![Screen%20Shot%202022-08-05%20at%2011.11.41%20AM.png](attachment:Screen%20Shot%202022-08-05%20at%2011.11.41%20AM.png)"
   ]
  },
  {
   "cell_type": "code",
   "execution_count": null,
   "metadata": {},
   "outputs": [],
   "source": [
    "import random\n",
    "option = [\"rock\", \"paper\", \"scissors\"]\n",
    "compselect = random.choice(option)\n",
    "while True:\n",
    "    userselect = input(\"Please enter your choice - rock, paper, scissors:\")\n",
    "    if userselect in option:\n",
    "        print (\"Python:\", compselect, \"vs. You:\", userselect)\n",
    "        if userselect == \"rock\" and compselect == \"scissors\":\n",
    "            print(\"You won!\")\n",
    "        elif userselect == \"rock\" and compselect == \"paper\":\n",
    "            print(\"You lost!\")\n",
    "        elif userselect == \"rock\" and compselect == \"rock\":\n",
    "            print(\"Draw\")\n",
    "        elif userselect == \"paper\" and compselect == \"rock\": \n",
    "            print(\"You won!\")\n",
    "        elif userselect == \"paper\" and compselect == \"scissors\":\n",
    "            print (\"You lost!\")\n",
    "        elif userselect == \"paper\" and compselect == \"paper\":\n",
    "            print(\"Draw\")\n",
    "        elif userselect == \"scissors\" and compselect == \"paper\":\n",
    "            print(\"You won!\")\n",
    "        elif userselect == \"scissors\" and compselect == \"rock\": \n",
    "            print (\"You lost!\")\n",
    "        elif userselect == \"scissors\" and compselect == \"scissors\": \n",
    "            print(\"Draw\")\n",
    "        break\n",
    "    else:\n",
    "        print(\"You picked the wrong option\")\n"
   ]
  },
  {
   "cell_type": "markdown",
   "metadata": {},
   "source": [
    "#### _feedabck(graders)_\n",
    "\n",
    "\n",
    "\n",
    "\n",
    "\n",
    "\n",
    "***"
   ]
  },
  {
   "cell_type": "markdown",
   "metadata": {},
   "source": [
    "                                               << The End >>"
   ]
  }
 ],
 "metadata": {
  "kernelspec": {
   "display_name": "Python 3",
   "language": "python",
   "name": "python3"
  },
  "language_info": {
   "codemirror_mode": {
    "name": "ipython",
    "version": 3
   },
   "file_extension": ".py",
   "mimetype": "text/x-python",
   "name": "python",
   "nbconvert_exporter": "python",
   "pygments_lexer": "ipython3",
   "version": "3.8.5"
  }
 },
 "nbformat": 4,
 "nbformat_minor": 5
}
